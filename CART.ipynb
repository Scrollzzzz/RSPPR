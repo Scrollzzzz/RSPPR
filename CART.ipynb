{
 "cells": [
  {
   "cell_type": "code",
   "execution_count": 1,
   "id": "96ebd2cc",
   "metadata": {},
   "outputs": [],
   "source": [
    "import numpy as np\n",
    "from sklearn.datasets import load_iris\n",
    "from sklearn.model_selection import train_test_split\n",
    "from sklearn.metrics import accuracy_score"
   ]
  },
  {
   "cell_type": "code",
   "execution_count": 2,
   "id": "270d2e8b",
   "metadata": {},
   "outputs": [],
   "source": [
    "class Node:\n",
    "    \n",
    "    def __init__(self, feature_index=None, threshold=None, value=None, left=None, right=None):\n",
    "        self.feature_index = feature_index  # Индекс признака, по которому происходит разделение\n",
    "        self.threshold = threshold          # Пороговое значение для разделения\n",
    "        self.value = value                  # Значение узла (для листового узла)\n",
    "        self.left = left                    # Левое поддерево\n",
    "        self.right = right                  # Правое поддерево\n",
    "\n",
    "class CART:\n",
    "    \n",
    "    def __init__(self, max_depth=None, min_samples_split=2):\n",
    "        self.max_depth = max_depth                  # Максимальная глубина дерева\n",
    "        self.min_samples_split = min_samples_split  # Минимальное количество объектов для разделения\n",
    "\n",
    "    def gini_impurity(self, y):\n",
    "        classes, counts = np.unique(y, return_counts=True)\n",
    "        probabilities = counts / np.sum(counts)\n",
    "        impurity = 1 - np.sum(probabilities ** 2)\n",
    "        return impurity\n",
    "\n",
    "    def split(self, X, y, feature_index, threshold):\n",
    "        left_mask = X[:, feature_index] <= threshold\n",
    "        right_mask = ~left_mask\n",
    "        X_left, y_left = X[left_mask], y[left_mask]\n",
    "        X_right, y_right = X[right_mask], y[right_mask]\n",
    "        return X_left, y_left, X_right, y_right\n",
    "\n",
    "    def find_best_split(self, X, y):\n",
    "        best_gini = float('inf')\n",
    "        best_feature_index = None\n",
    "        best_threshold = None\n",
    "\n",
    "        n_features = X.shape[1]\n",
    "        for feature_index in range(n_features):\n",
    "            thresholds = np.unique(X[:, feature_index])\n",
    "            for threshold in thresholds:\n",
    "                X_left, y_left, X_right, y_right = self.split(X, y, feature_index, threshold)\n",
    "                gini = (y_left.shape[0] / y.shape[0]) * self.gini_impurity(y_left) + \\\n",
    "                        (y_right.shape[0] / y.shape[0]) * self.gini_impurity(y_right)\n",
    "                if gini < best_gini:\n",
    "                    best_gini = gini\n",
    "                    best_feature_index = feature_index\n",
    "                    best_threshold = threshold\n",
    "\n",
    "        return best_feature_index, best_threshold\n",
    "\n",
    "    def build_tree(self, X, y, depth=0):\n",
    "        # Проверка условий остановки\n",
    "        if depth == self.max_depth or X.shape[0] < self.min_samples_split or np.unique(y).size == 1:\n",
    "            value = np.argmax(np.bincount(y))\n",
    "            return Node(value=value)\n",
    "\n",
    "        feature_index, threshold = self.find_best_split(X, y)\n",
    "        X_left, y_left, X_right, y_right = self.split(X, y, feature_index, threshold)\n",
    "        \n",
    "        left_child = self.build_tree(X_left, y_left, depth + 1)\n",
    "        right_child = self.build_tree(X_right, y_right, depth + 1)\n",
    "        \n",
    "        return Node(feature_index=feature_index, threshold=threshold, left=left_child, right=right_child)\n",
    "\n",
    "    def fit(self, X, y):\n",
    "        self.n_classes = np.unique(y).size\n",
    "        self.tree = self.build_tree(X, y)\n",
    "\n",
    "    def predict_single(self, x, node):\n",
    "        if node.value is not None:\n",
    "            return node.value\n",
    "        if x[node.feature_index] <= node.threshold:\n",
    "            return self.predict_single(x, node.left)\n",
    "        else:\n",
    "            return self.predict_single(x, node.right)\n",
    "\n",
    "    def predict(self, X):\n",
    "        return np.array([self.predict_single(x, self.tree) for x in X])"
   ]
  },
  {
   "cell_type": "code",
   "execution_count": 9,
   "id": "8a6da525",
   "metadata": {},
   "outputs": [],
   "source": [
    "iris = load_iris()\n",
    "X = iris.data\n",
    "y = iris.target\n",
    "\n",
    "X_train, X_test, y_train, y_test = train_test_split(X, y, test_size=0.2, shuffle=True)"
   ]
  },
  {
   "cell_type": "code",
   "execution_count": 10,
   "id": "9a51878c",
   "metadata": {},
   "outputs": [],
   "source": [
    "model = CART()\n",
    "model.fit(X_train, y_train)"
   ]
  },
  {
   "cell_type": "code",
   "execution_count": 11,
   "id": "8ba57513",
   "metadata": {},
   "outputs": [
    {
     "name": "stdout",
     "output_type": "stream",
     "text": [
      "Predicted:  [1 1 1 1 0 0 2 0 0 2 0 1 2 0 0 2 0 1 2 1 2 2 0 0 0 1 2 2 2 1]\n",
      "     Real:  [1 1 1 1 0 0 2 0 0 2 0 1 2 0 0 2 0 1 2 1 2 2 0 0 0 1 2 2 2 1]\n",
      "\n",
      " Accuracy: 1.0\n"
     ]
    }
   ],
   "source": [
    "y_pred = model.predict(X_test)\n",
    "\n",
    "print(\"Predicted: \", y_pred)\n",
    "print(\"     Real: \", y_test)\n",
    "print(\"\\n Accuracy:\", accuracy_score(y_test, y_pred))"
   ]
  },
  {
   "cell_type": "code",
   "execution_count": null,
   "id": "ab8db134",
   "metadata": {},
   "outputs": [],
   "source": []
  }
 ],
 "metadata": {
  "kernelspec": {
   "display_name": "Python 3 (ipykernel)",
   "language": "python",
   "name": "python3"
  },
  "language_info": {
   "codemirror_mode": {
    "name": "ipython",
    "version": 3
   },
   "file_extension": ".py",
   "mimetype": "text/x-python",
   "name": "python",
   "nbconvert_exporter": "python",
   "pygments_lexer": "ipython3",
   "version": "3.10.1"
  }
 },
 "nbformat": 4,
 "nbformat_minor": 5
}
