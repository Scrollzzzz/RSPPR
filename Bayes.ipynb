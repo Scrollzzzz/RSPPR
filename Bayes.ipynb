{
 "cells": [
  {
   "cell_type": "code",
   "execution_count": 32,
   "id": "f53da0bc",
   "metadata": {},
   "outputs": [],
   "source": [
    "import numpy as np\n",
    "from sklearn.datasets import load_iris\n",
    "from sklearn.model_selection import train_test_split\n",
    "from sklearn.metrics import accuracy_score"
   ]
  },
  {
   "cell_type": "code",
   "execution_count": 33,
   "id": "4111df9c",
   "metadata": {},
   "outputs": [],
   "source": [
    "class Bayes:\n",
    "    \n",
    "    def fit(self, X, y):\n",
    "        \n",
    "        self.classes = np.unique(y)\n",
    "        self.num_classes = len(self.classes)\n",
    "        self.priors = np.zeros(self.num_classes)\n",
    "        self.means = np.zeros((self.num_classes, X.shape[1]))\n",
    "        self.variances = np.zeros((self.num_classes, X.shape[1]))\n",
    "        \n",
    "        for i, c in enumerate(self.classes):\n",
    "            X_c = X[y == c]\n",
    "            self.priors[i] = len(X_c) / len(X)\n",
    "            self.means[i] = X_c.mean(axis=0)\n",
    "            self.variances[i] = X_c.var(axis=0)\n",
    "    \n",
    "    def predict(self, X):\n",
    "        posteriors = np.zeros((X.shape[0], self.num_classes))\n",
    "        \n",
    "        for i, c in enumerate(self.classes):\n",
    "            prior = np.log(self.priors[i])\n",
    "            likelihood = -0.5 * np.sum(np.log(2 * np.pi * self.variances[i]))\n",
    "            likelihood -= 0.5 * np.sum(((X - self.means[i])**2) / self.variances[i], axis=1)\n",
    "            posteriors[:, i] = prior + likelihood\n",
    "        \n",
    "        return self.classes[np.argmax(posteriors, axis=1)]"
   ]
  },
  {
   "cell_type": "code",
   "execution_count": 34,
   "id": "e64f2af2",
   "metadata": {},
   "outputs": [],
   "source": [
    "iris = load_iris()\n",
    "X = iris.data\n",
    "y = iris.target\n",
    "\n",
    "X_train, X_test, y_train, y_test = train_test_split(X, y, test_size=0.2, shuffle=True)"
   ]
  },
  {
   "cell_type": "code",
   "execution_count": 35,
   "id": "ced92be0",
   "metadata": {},
   "outputs": [],
   "source": [
    "model = Bayes()\n",
    "model.fit(X_train, y_train)"
   ]
  },
  {
   "cell_type": "code",
   "execution_count": 37,
   "id": "ff2a2ead",
   "metadata": {},
   "outputs": [
    {
     "name": "stdout",
     "output_type": "stream",
     "text": [
      "Predicted:  [2 2 1 2 2 0 2 2 0 1 1 0 2 2 0 2 0 0 1 1 0 1 2 2 1 0 2 2 0 1]\n",
      "     Real:  [2 2 1 2 2 0 2 2 0 1 1 0 2 2 0 2 0 0 1 1 0 1 2 2 1 0 2 2 0 1]\n",
      "\n",
      " Accuracy: 1.0\n"
     ]
    }
   ],
   "source": [
    "y_pred = model.predict(X_test)\n",
    "\n",
    "print(\"Predicted: \", y_pred)\n",
    "print(\"     Real: \", y_test)\n",
    "print(\"\\n Accuracy:\", accuracy_score(y_test, y_pred))"
   ]
  },
  {
   "cell_type": "code",
   "execution_count": null,
   "id": "564b04f3",
   "metadata": {},
   "outputs": [],
   "source": []
  }
 ],
 "metadata": {
  "kernelspec": {
   "display_name": "Python 3 (ipykernel)",
   "language": "python",
   "name": "python3"
  },
  "language_info": {
   "codemirror_mode": {
    "name": "ipython",
    "version": 3
   },
   "file_extension": ".py",
   "mimetype": "text/x-python",
   "name": "python",
   "nbconvert_exporter": "python",
   "pygments_lexer": "ipython3",
   "version": "3.10.1"
  }
 },
 "nbformat": 4,
 "nbformat_minor": 5
}
